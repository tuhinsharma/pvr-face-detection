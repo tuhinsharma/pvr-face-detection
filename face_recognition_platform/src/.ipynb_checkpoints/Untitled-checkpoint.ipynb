{
 "cells": [
  {
   "cell_type": "code",
   "execution_count": 1,
   "metadata": {},
   "outputs": [
    {
     "name": "stderr",
     "output_type": "stream",
     "text": [
      "/Users/tuhinsharma/.virtualenvs/pvr_object_recognition_v3/lib/python3.6/importlib/_bootstrap.py:219: RuntimeWarning: compiletime version 3.5 of module 'tensorflow.python.framework.fast_tensor_util' does not match runtime version 3.6\n",
      "  return f(*args, **kwds)\n"
     ]
    }
   ],
   "source": [
    "import face_recognition\n",
    "import cv2\n",
    "import os\n",
    "import numpy as np\n",
    "import os\n",
    "import cv2\n",
    "import dlib\n",
    "import numpy as np\n",
    "import argparse\n",
    "import inception_resnet_v1\n",
    "import tensorflow as tf\n",
    "from imutils.face_utils import FaceAligner\n",
    "from imutils.face_utils import rect_to_bb"
   ]
  },
  {
   "cell_type": "code",
   "execution_count": 2,
   "metadata": {},
   "outputs": [],
   "source": [
    "\n",
    "def load_network(model_path):\n",
    "    sess = tf.Session()\n",
    "    images_pl = tf.placeholder(tf.float32, shape=[None, 160, 160, 3], name='input_image')\n",
    "    images_norm = tf.map_fn(lambda frame: tf.image.per_image_standardization(frame), images_pl)\n",
    "    train_mode = tf.placeholder(tf.bool)\n",
    "    age_logits, gender_logits, _ = inception_resnet_v1.inference(images_norm, keep_probability=0.8,\n",
    "                                                                 phase_train=train_mode,\n",
    "                                                                 weight_decay=1e-5)\n",
    "    gender = tf.argmax(tf.nn.softmax(gender_logits), 1)\n",
    "    age_ = tf.cast(tf.constant([i for i in range(0, 101)]), tf.float32)\n",
    "    age = tf.reduce_sum(tf.multiply(tf.nn.softmax(age_logits), age_), axis=1)\n",
    "    init_op = tf.group(tf.global_variables_initializer(),\n",
    "                       tf.local_variables_initializer())\n",
    "    sess.run(init_op)\n",
    "    saver = tf.train.Saver()\n",
    "    ckpt = tf.train.get_checkpoint_state(model_path)\n",
    "    if ckpt and ckpt.model_checkpoint_path:\n",
    "        saver.restore(sess, ckpt.model_checkpoint_path)\n",
    "        print(\"restore model!\")\n",
    "    else:\n",
    "        pass\n",
    "    return sess,age,gender,train_mode,images_pl"
   ]
  },
  {
   "cell_type": "code",
   "execution_count": 3,
   "metadata": {},
   "outputs": [
    {
     "name": "stdout",
     "output_type": "stream",
     "text": [
      "INFO:tensorflow:Restoring parameters from ../models/savedmodel.ckpt\n",
      "restore model!\n"
     ]
    }
   ],
   "source": [
    "sess, age, gender, train_mode,images_pl = load_network(\"../models\")"
   ]
  },
  {
   "cell_type": "code",
   "execution_count": null,
   "metadata": {
    "scrolled": true
   },
   "outputs": [],
   "source": [
    "video_capture = cv2.VideoCapture(0)\n",
    "\n",
    "filenames = os.listdir(\"../person\")\n",
    "\n",
    "known_face_names = [filename.split(\".\")[0].split(\"_\")[0] for filename in filenames]\n",
    "\n",
    "known_face_encodings = [face_recognition.face_encodings(face_recognition.load_image_file(os.path.join(os.getcwd()[:-4],'person',filename)))[0] for filename in filenames]\n",
    "\n",
    "img_size = 160\n",
    "\n",
    "match_thresh = 0.49\n",
    "\n",
    "while True:\n",
    "    # Grab a single frame of video\n",
    "    ret, frame = video_capture.read()\n",
    "\n",
    "    # Convert the image from BGR color (which OpenCV uses) to RGB color (which face_recognition uses)\n",
    "    #rgb_frame = frame[:, :, ::-1]\n",
    "    \n",
    "    detector = dlib.get_frontal_face_detector()\n",
    "    predictor = dlib.shape_predictor(\"shape_predictor_68_face_landmarks.dat\")\n",
    "    fa = FaceAligner(predictor, desiredFaceWidth=160)\n",
    "    \n",
    "    \n",
    "    rgb_frame = cv2.cvtColor(frame, cv2.COLOR_BGR2RGB)\n",
    "    gray = cv2.cvtColor(frame, cv2.COLOR_BGR2GRAY)\n",
    "    img_h, img_w, _ = np.shape(rgb_frame)\n",
    "    \n",
    "    # Find all the faces and face enqcodings in the frame of video\n",
    "    face_locations = face_recognition.face_locations(rgb_frame)\n",
    "    face_encodings = face_recognition.face_encodings(rgb_frame, face_locations)\n",
    "\n",
    "    # detect faces using dlib detector\n",
    "    detected = detector(rgb_frame, 1)\n",
    "    faces = np.empty((1, img_size, img_size, 3))\n",
    "    \n",
    "#     print(\"detected : \",detected)\n",
    "#     print(\"face_locations : \",face_locations)\n",
    "\n",
    "    # Loop through each face in this frame of video\n",
    "    for d, face_encoding in zip(detected, face_encodings):\n",
    "\n",
    "        (top, right, bottom, left) = d.top(),d.right(),d.bottom(),d.left()\n",
    "        \n",
    "        faces[0, :, :, :] = fa.align(rgb_frame, gray, d)\n",
    "        ages,genders = sess.run([age, gender], feed_dict={images_pl: faces, train_mode: False})\n",
    "        \n",
    "                \n",
    "        # See if the face is a match for the known face(s)\n",
    "        matches = face_recognition.compare_faces(known_face_encodings, face_encoding)\n",
    "        xmatches = face_recognition.face_distance(known_face_encodings, face_encoding)\n",
    "\n",
    "        #print(\"xmatches : \",xmatches)\n",
    "        #print(\"matches : \",matches)\n",
    "\n",
    "        name = \"Unknown\"\n",
    "\n",
    "        # If a match was found in known_face_encodings, just use the first one.\n",
    "        if True in matches:\n",
    "            first_match_index = matches.index(True)\n",
    "            # name = known_face_names[first_match_index]\n",
    "            idxx = np.argmin(xmatches)\n",
    "            if xmatches[idxx] < match_thresh:\n",
    "                name = known_face_names[idxx]\n",
    "                \n",
    "        label = \"{}, {}, {}\".format(name,int(ages[0]), \"F\" if genders[0] == 0 else \"M\")\n",
    "\n",
    "        # Draw a box around the face\n",
    "        cv2.rectangle(frame, (left, top), (right, bottom), (0, 0, 255), 2)\n",
    "\n",
    "        # Draw a label with a name below the face\n",
    "        cv2.rectangle(frame, (left, bottom - 35), (right, bottom), (0, 0, 255), cv2.FILLED)\n",
    "        font = cv2.FONT_HERSHEY_DUPLEX\n",
    "        cv2.putText(frame, label, (left + 6, bottom - 6), font, 1.0, (255, 255, 255), 1)\n",
    "\n",
    "    # Display the resulting image\n",
    "    cv2.imshow('Video', frame)\n",
    "\n",
    "    # Hit 'q' on the keyboard to quit!\n",
    "    if cv2.waitKey(1) & 0xFF == ord('q'):\n",
    "        break\n",
    "\n",
    "# Release handle to the webcam\n",
    "video_capture.release()\n",
    "cv2.destroyAllWindows()"
   ]
  }
 ],
 "metadata": {
  "kernelspec": {
   "display_name": "pvr_object_recognition_v3",
   "language": "python",
   "name": "pvr_object_recognition_v3"
  },
  "language_info": {
   "codemirror_mode": {
    "name": "ipython",
    "version": 3
   },
   "file_extension": ".py",
   "mimetype": "text/x-python",
   "name": "python",
   "nbconvert_exporter": "python",
   "pygments_lexer": "ipython3",
   "version": "3.6.5"
  }
 },
 "nbformat": 4,
 "nbformat_minor": 2
}
